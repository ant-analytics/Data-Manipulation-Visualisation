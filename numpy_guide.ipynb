{
 "cells": [
  {
   "cell_type": "markdown",
   "metadata": {},
   "source": [
    "<h1 align=\"center\">Data Manipulation Use Numpy</h1>\n"
   ]
  },
  {
   "cell_type": "markdown",
   "metadata": {},
   "source": [
    "## 1. Introduction\n",
    "This notebook focuses on numpy, a fundamental library that widely used in data science. Numpy is a library storing and manupulating data. NumPy's main object is homogeneous multidimensional array. It is table of elements (ussualy numbers) of all same types, indexed by a tuple of non-negative integers. In NumPy dimensions are called axes. This notebook is divided into three parts: 1D array, 2D array and multi-dimensional array.\n",
    "\n",
    "## 2. 1D Array\n",
    "1D array, a vector is a list of elements"
   ]
  },
  {
   "cell_type": "code",
   "execution_count": 1,
   "metadata": {},
   "outputs": [
    {
     "name": "stdout",
     "output_type": "stream",
     "text": [
      " vector v has: 1 dimension with shape (3,) and type float64\n",
      "the zeor vetor has: 1 dimension with shape (3,) and type float64\n",
      "the zeor vetor has: 1 dimension with shape (3,) and type float64\n"
     ]
    }
   ],
   "source": [
    "import time\n",
    "import numpy as np\n",
    "# start time\n",
    "start = time.time()\n",
    "# one way to create a vector is from list\n",
    "v = np.array([1, 2, 2], np.float64)\n",
    "print(f' vector v has: {v.ndim} dimension with shape {v.shape} and type {v.dtype}')\n",
    "# it also possible to create a vector with same shape as v \n",
    "# np.zeros_like(); np.ones_like(); np.empty_like()\n",
    "v_zero = np.zeros_like(v)\n",
    "print(f'the zeor vetor has: {v_zero.ndim} dimension with shape {v_zero.shape} and type {v_zero.dtype}')\n",
    "# create vector fill with a number\n",
    "v_seven = np.full_like(v, 7)\n",
    "print(f'the zeor vetor has: {v_seven.ndim} dimension with shape {v_seven.shape} and type {v_seven.dtype}')"
   ]
  },
  {
   "cell_type": "code",
   "execution_count": 2,
   "metadata": {},
   "outputs": [
    {
     "name": "stdout",
     "output_type": "stream",
     "text": [
      "v_stop: [0 1 2 3 4 5 6 7 8 9]\n",
      "v_start_stop: [2 3 4 5 6 7 8 9]\n",
      "v_start_stop_step: [2 4 6 8]\n",
      "v_linspace: [1.         1.88888889 2.77777778 3.66666667 4.55555556 5.44444444\n",
      " 6.33333333 7.22222222 8.11111111 9.        ]\n",
      "note that linspace will include the stop number\n"
     ]
    }
   ],
   "source": [
    "# create a vector with range of number\n",
    "v_stop = np.arange(10) # stop at 10\n",
    "print(f'v_stop: {v_stop}')\n",
    "v_start_stop = np.arange(2, 10) # start at 2 stop at 10\n",
    "print(f'v_start_stop: {v_start_stop}')\n",
    "v_start_stop_step = np.arange(2, 10, 2) # start at 2 stop at 10 with step 2\n",
    "print(f'v_start_stop_step: {v_start_stop_step}')\n",
    "# create create a vector with evenly spaced number in a range\n",
    "v_linspace = np.linspace(1, 9, 10) # start at 1 stop at 10 with 10 number\n",
    "print(f'v_linspace: {v_linspace}')\n",
    "print(f'note that linspace will include the stop number')"
   ]
  },
  {
   "cell_type": "code",
   "execution_count": 3,
   "metadata": {},
   "outputs": [
    {
     "name": "stdout",
     "output_type": "stream",
     "text": [
      "v_random: [0.40303597 0.11833715 0.46480547]\n",
      "v_random_int: [5 2 6]\n",
      "v_random_normal: [ 0.11985137 -0.75694375  0.97754483]\n"
     ]
    }
   ],
   "source": [
    "# random number\n",
    "# a new interface for random number is np.random\n",
    "rng = np.random.default_rng() # create a random number generator\n",
    "v_random = rng.random(3)\n",
    "print(f'v_random: {v_random}')\n",
    "# random integer\n",
    "v_random_int = rng.integers(1, 10, 3, endpoint=True) # set include end point; return uniform random integer\n",
    "print(f'v_random_int: {v_random_int}')\n",
    "v_random_normal = rng.normal(0, 1, 3) # return normal random number with mean 0 and std 1\n",
    "print(f'v_random_normal: {v_random_normal}')\n"
   ]
  },
  {
   "cell_type": "code",
   "execution_count": 4,
   "metadata": {},
   "outputs": [
    {
     "name": "stdout",
     "output_type": "stream",
     "text": [
      "this is the vector: [0 1 2 3 4 5 6 7 8 9]\n",
      "this is first element: 0\n",
      "this slice from second element upto fourth element: [1 2 3]\n",
      "this is a slice from second last element to the end: [8 9]\n",
      "This select every second element: [0 2 4 6 8]\n",
      "this is fancy indexing select element at indext 3, 5, 7: [3 5 7]\n"
     ]
    }
   ],
   "source": [
    "# indexing and slicing is similar to list\n",
    "v_index = np.arange(10)\n",
    "print(f'this is the vector: {v_index}')\n",
    "print(f\"this is first element: {v_index[0]}\")\n",
    "print(f'this slice from second element upto fourth element: {v_index[1:4]}')\n",
    "print(f'this is a slice from second last element to the end: {v_index[-2:]}')\n",
    "print(f'This select every second element: {v_index[::2]}')\n",
    "print(f'this is fancy indexing select element at indext 3, 5, 7: {v_index[[3, 5, 7]]}')\n"
   ]
  },
  {
   "cell_type": "markdown",
   "metadata": {},
   "source": [
    "Boolean indexing also works in 1D array. It is a powerful tool to filter data. Let's see an example."
   ]
  },
  {
   "cell_type": "code",
   "execution_count": 5,
   "metadata": {},
   "outputs": [
    {
     "name": "stdout",
     "output_type": "stream",
     "text": [
      "are there any element greater than 6: True\n",
      "are all element greater than 5: False\n",
      "compare element with 5: [False False False False  True False False  True False False False False]\n",
      "these are elements that greater than 5: [6 7]\n"
     ]
    }
   ],
   "source": [
    "v_bool = np.array([1, 2, 3, 4, 5, 6, 7, 5, 4, 3, 2, 1])\n",
    "print(f'are there any element greater than 6: {np.any(v_bool > 6)}')\n",
    "print(f'are all element greater than 5: {np.all(v_bool > 5)}')\n",
    "print(f'compare element with 5: {v_bool == 5}')\n",
    "print(f'these are elements that greater than 5: {v_bool[v_bool > 5]}')"
   ]
  },
  {
   "cell_type": "markdown",
   "metadata": {},
   "source": [
    "## 3. 2D Array\n",
    "2D array is a maxtrix. It's creation syntax is similar to 1D array with extra argument for shape. Let's have examples:"
   ]
  },
  {
   "cell_type": "code",
   "execution_count": 6,
   "metadata": {},
   "outputs": [
    {
     "name": "stdout",
     "output_type": "stream",
     "text": [
      "matrix of ones:\n",
      " [[1. 1. 1.]\n",
      " [1. 1. 1.]\n",
      " [1. 1. 1.]]\n",
      "matrix from list:\n",
      " [[1 2 3]\n",
      " [4 5 6]\n",
      " [7 8 9]]\n",
      "this is a matrix fill with 5:\n",
      " [[5 5 5 5]\n",
      " [5 5 5 5]\n",
      " [5 5 5 5]] \n",
      " the matrix has shape (3, 4)\n"
     ]
    }
   ],
   "source": [
    "m_ones = np.ones((3, 3))\n",
    "print(f'matrix of ones:\\n {m_ones}')\n",
    "m_list = np.array([[1, 2, 3], [4, 5, 6], [7, 8, 9]])\n",
    "print(f'matrix from list:\\n {m_list}')\n",
    "m_full = np.full((3, 4), 5) # create a matrix with shape (3, 4) fill with 5\n",
    "print(f'this is a matrix fill with 5:\\n {m_full} \\n the matrix has shape {m_full.shape}')"
   ]
  },
  {
   "cell_type": "markdown",
   "metadata": {},
   "source": [
    "### 3.1 Indexing"
   ]
  },
  {
   "cell_type": "code",
   "execution_count": 7,
   "metadata": {},
   "outputs": [
    {
     "name": "stdout",
     "output_type": "stream",
     "text": [
      "this is the index matrix:\n",
      " [[ 0  1  2  3]\n",
      " [ 4  5  6  7]\n",
      " [ 8  9 10 11]\n",
      " [12 13 14 15]]\n"
     ]
    }
   ],
   "source": [
    "# indexing and slicing is similar to list, zeor base index\n",
    "m_index = np.arange(16).reshape(4, 4)\n",
    "print(f'this is the index matrix:\\n {m_index}')"
   ]
  },
  {
   "cell_type": "code",
   "execution_count": 8,
   "metadata": {},
   "outputs": [
    {
     "name": "stdout",
     "output_type": "stream",
     "text": [
      "this all return a view not a copy\n",
      "this select second row and all column: [4 5 6 7]\n",
      "this select second column and all row: [ 1  5  9 13]\n",
      "this select element at second row and second column: 5\n",
      "this select elements from second last row and second last column: [[10 11]\n",
      " [14 15]]\n",
      "this select every second row start from 0 and every second column start from 1:\n",
      " [[ 1  3]\n",
      " [ 9 11]]\n"
     ]
    }
   ],
   "source": [
    "print(f'this all return a view not a copy')\n",
    "print(f'this select second row and all column: {m_index[1]}')\n",
    "print(f'this select second column and all row: {m_index[:, 1]}')\n",
    "print(f'this select element at second row and second column: {m_index[1, 1]}')\n",
    "print(f'this select elements from second last row and second last column: {m_index[-2:, -2:]}')\n",
    "print(f'this select every second row start from 0 and every second column start from 1:\\n {m_index[::2, 1::2]}')"
   ]
  },
  {
   "cell_type": "markdown",
   "metadata": {},
   "source": [
    "To me experience, when working with high-dimensional array (in NumPy) or tensor (in Pytorch or TensorFlow), one most important task is to manipulate the shape of the array/tensor. Mastering this skill is critical for data preprocessing and model building. This notebook focuses on array but  same concept can be applied to tensor.\n",
    "\n",
    "### 3.2. Reshape\n",
    "As the word sugested, reshape is to change the shape of an array. This includes changing from lower dimension to higher dimension and vice versa, from 1D to 2D; switching between row and column, transpose. In this notebook, I focuses in `.np.reshape()` and `np.transpose()` method. But there are some other useful methods like `.np.ravel()`, `.np.flatten()`, `.np.squeeze()`, `np.swapaxes()`. Let's have examples:\n",
    "Note that in Numpy 1D array is considered as row vector. Let's have examples:"
   ]
  },
  {
   "cell_type": "code",
   "execution_count": 9,
   "metadata": {},
   "outputs": [
    {
     "name": "stdout",
     "output_type": "stream",
     "text": [
      "this is the original matrix:\n",
      " [ 0  1  2  3  4  5  6  7  8  9 10 11 12 13 14 15 16 17 18 19]\n"
     ]
    }
   ],
   "source": [
    "m_original = np.arange(20)\n",
    "print(f'this is the original matrix:\\n {m_original}')"
   ]
  },
  {
   "cell_type": "code",
   "execution_count": 10,
   "metadata": {},
   "outputs": [
    {
     "name": "stdout",
     "output_type": "stream",
     "text": [
      "this is 2D matrix from m_original:\n",
      " [[ 0  1  2  3  4]\n",
      " [ 5  6  7  8  9]\n",
      " [10 11 12 13 14]\n",
      " [15 16 17 18 19]]\n"
     ]
    }
   ],
   "source": [
    "m_2D = m_original.reshape(4, 5)\n",
    "print(f'this is 2D matrix from m_original:\\n {m_2D}')"
   ]
  },
  {
   "cell_type": "code",
   "execution_count": 11,
   "metadata": {},
   "outputs": [
    {
     "name": "stdout",
     "output_type": "stream",
     "text": [
      "this is 3D matrix from m_original:\n",
      " [[[ 0  1  2  3  4]\n",
      "  [ 5  6  7  8  9]]\n",
      "\n",
      " [[10 11 12 13 14]\n",
      "  [15 16 17 18 19]]]\n"
     ]
    }
   ],
   "source": [
    "m_1D_3D = m_original.reshape(2, 2, 5)\n",
    "print(f'this is 3D matrix from m_original:\\n {m_1D_3D}')"
   ]
  },
  {
   "cell_type": "code",
   "execution_count": 12,
   "metadata": {},
   "outputs": [
    {
     "name": "stdout",
     "output_type": "stream",
     "text": [
      "this is 3D matrix from m_2D:\n",
      " [[[ 0  1  2  3  4]\n",
      "  [ 5  6  7  8  9]\n",
      "  [10 11 12 13 14]\n",
      "  [15 16 17 18 19]]]\n"
     ]
    }
   ],
   "source": [
    "m_2D_3D_front = m_2D.reshape(1, 4, 5) # adding a new dimension at the front\n",
    "print(f'this is 3D matrix from m_2D:\\n {m_2D_3D_front}')"
   ]
  },
  {
   "cell_type": "code",
   "execution_count": 13,
   "metadata": {},
   "outputs": [
    {
     "name": "stdout",
     "output_type": "stream",
     "text": [
      "this is 3D matrix from m_2D:\n",
      " [[[ 0]\n",
      "  [ 1]\n",
      "  [ 2]\n",
      "  [ 3]\n",
      "  [ 4]]\n",
      "\n",
      " [[ 5]\n",
      "  [ 6]\n",
      "  [ 7]\n",
      "  [ 8]\n",
      "  [ 9]]\n",
      "\n",
      " [[10]\n",
      "  [11]\n",
      "  [12]\n",
      "  [13]\n",
      "  [14]]\n",
      "\n",
      " [[15]\n",
      "  [16]\n",
      "  [17]\n",
      "  [18]\n",
      "  [19]]]\n"
     ]
    }
   ],
   "source": [
    "m_2D_3D_back = m_2D.reshape(4, 5, 1) # adding a new dimension at the back\n",
    "print(f'this is 3D matrix from m_2D:\\n {m_2D_3D_back}')"
   ]
  },
  {
   "cell_type": "code",
   "execution_count": 14,
   "metadata": {},
   "outputs": [
    {
     "name": "stdout",
     "output_type": "stream",
     "text": [
      "this is 3D matrix from m_2D:\n",
      " [[[ 0  1  2  3  4]]\n",
      "\n",
      " [[ 5  6  7  8  9]]\n",
      "\n",
      " [[10 11 12 13 14]]\n",
      "\n",
      " [[15 16 17 18 19]]]\n"
     ]
    }
   ],
   "source": [
    "m_2D_3D_middle = m_2D.reshape(4, 1, 5) # adding a new dimension at the middle\n",
    "print(f'this is 3D matrix from m_2D:\\n {m_2D_3D_middle}')"
   ]
  },
  {
   "cell_type": "code",
   "execution_count": 15,
   "metadata": {},
   "outputs": [
    {
     "name": "stdout",
     "output_type": "stream",
     "text": [
      "this is 1D matrix from m_2D_3D_middle:\n",
      " [ 0  1  2  3  4  5  6  7  8  9 10 11 12 13 14 15 16 17 18 19]\n"
     ]
    }
   ],
   "source": [
    "# flatten a matrix to 1D; collagse all dimensions\n",
    "m_2D_3D_middle_flatten = m_2D_3D_middle.flatten()\n",
    "print(f'this is 1D matrix from m_2D_3D_middle:\\n {m_2D_3D_middle_flatten}')"
   ]
  },
  {
   "cell_type": "markdown",
   "metadata": {},
   "source": [
    "In previous examples, reshape is use to chagne shape of array by specifying new shape while keeping all elements remain same. We change the shape but also change number of each element in each axis.\n",
    "\n",
    "If we want to keep number of elements in each dimension remain same and only switch between dimensions, the `np.transpose()` serve for this purpose. Let's see an example:"
   ]
  },
  {
   "cell_type": "code",
   "execution_count": 16,
   "metadata": {},
   "outputs": [
    {
     "name": "stdout",
     "output_type": "stream",
     "text": [
      "this is the original matrix:\n",
      " [[0 1 2]\n",
      " [3 4 5]]\n",
      "this is switch between row and column:\n",
      " [[0 3]\n",
      " [1 4]\n",
      " [2 5]]\n"
     ]
    }
   ],
   "source": [
    "m_for_transpose = np.arange(6).reshape(2, 3)\n",
    "print(f'this is the original matrix:\\n {m_for_transpose}')\n",
    "print(f'this is switch between row and column:\\n {np.transpose(m_for_transpose)}')"
   ]
  },
  {
   "cell_type": "code",
   "execution_count": 17,
   "metadata": {},
   "outputs": [
    {
     "name": "stdout",
     "output_type": "stream",
     "text": [
      "this is the original 3D matrix:\n",
      " [[[ 0  1  2  3]\n",
      "  [ 4  5  6  7]\n",
      "  [ 8  9 10 11]]\n",
      "\n",
      " [[12 13 14 15]\n",
      "  [16 17 18 19]\n",
      "  [20 21 22 23]]]\n",
      "this is switch between first and second dimension:\n",
      " [[[ 0  1  2  3]\n",
      "  [12 13 14 15]]\n",
      "\n",
      " [[ 4  5  6  7]\n",
      "  [16 17 18 19]]\n",
      "\n",
      " [[ 8  9 10 11]\n",
      "  [20 21 22 23]]]\n",
      "this switch between second and third dimension:\n",
      " [[[ 0  4  8]\n",
      "  [ 1  5  9]\n",
      "  [ 2  6 10]\n",
      "  [ 3  7 11]]\n",
      "\n",
      " [[12 16 20]\n",
      "  [13 17 21]\n",
      "  [14 18 22]\n",
      "  [15 19 23]]]\n",
      "this switch between first and third dimension:\n",
      " [[[ 0 12]\n",
      "  [ 4 16]\n",
      "  [ 8 20]]\n",
      "\n",
      " [[ 1 13]\n",
      "  [ 5 17]\n",
      "  [ 9 21]]\n",
      "\n",
      " [[ 2 14]\n",
      "  [ 6 18]\n",
      "  [10 22]]\n",
      "\n",
      " [[ 3 15]\n",
      "  [ 7 19]\n",
      "  [11 23]]]\n"
     ]
    }
   ],
   "source": [
    "# tranpose for higer dimension\n",
    "# we provide a list of dimension to switch as tuple\n",
    "m_3D = np.arange(24).reshape(2, 3, 4)\n",
    "print(f'this is the original 3D matrix:\\n {m_3D}')\n",
    "print(f'this is switch between first and second dimension:\\n {np.transpose(m_3D, (1, 0, 2))}')\n",
    "print(f'this switch between second and third dimension:\\n {np.transpose(m_3D, (0, 2, 1))}')\n",
    "print(f'this switch between first and third dimension:\\n {np.transpose(m_3D, (2, 1, 0))}')"
   ]
  },
  {
   "cell_type": "markdown",
   "metadata": {},
   "source": [
    "### 3.3. Join Arrays\n",
    "Numpy provides wide range of array join methods such as `np.vstack()`, `np.hstack()`, `np.concatenate()`. This notebook focuses in np.concatenate() method. Let's see an example:"
   ]
  },
  {
   "cell_type": "code",
   "execution_count": 23,
   "metadata": {},
   "outputs": [
    {
     "data": {
      "text/plain": [
       "array([[0, 1],\n",
       "       [2, 3],\n",
       "       [4, 5],\n",
       "       [6, 7]])"
      ]
     },
     "execution_count": 23,
     "metadata": {},
     "output_type": "execute_result"
    }
   ],
   "source": [
    "join_1 = np.arange(4).reshape(2, 2)\n",
    "join_2 = np.arange(4, 8).reshape(2, 2)\n",
    "np.concatenate((join_1, join_2), axis=0) # join along row"
   ]
  },
  {
   "cell_type": "code",
   "execution_count": 24,
   "metadata": {},
   "outputs": [
    {
     "data": {
      "text/plain": [
       "array([[0, 1, 4, 5],\n",
       "       [2, 3, 6, 7]])"
      ]
     },
     "execution_count": 24,
     "metadata": {},
     "output_type": "execute_result"
    }
   ],
   "source": [
    "np.concatenate((join_1, join_2), axis=1) # join along column\n"
   ]
  },
  {
   "cell_type": "markdown",
   "metadata": {},
   "source": [
    "### 3.4 Split Arrays\n",
    "Numpy provides wide range of array split methods such as `np.vsplit()`, `np.hsplit()`, `np.split()`. This notebook focuses in np.split() method. Let's see an example:"
   ]
  },
  {
   "cell_type": "code",
   "execution_count": 28,
   "metadata": {},
   "outputs": [
    {
     "name": "stdout",
     "output_type": "stream",
     "text": [
      "this is the original matrix:\n",
      " [[ 0  1  2  3]\n",
      " [ 4  5  6  7]\n",
      " [ 8  9 10 11]\n",
      " [12 13 14 15]]\n"
     ]
    }
   ],
   "source": [
    "m_split = np.arange(16).reshape(4, 4)\n",
    "print(f'this is the original matrix:\\n {m_split}')"
   ]
  },
  {
   "cell_type": "code",
   "execution_count": null,
   "metadata": {},
   "outputs": [
    {
     "data": {
      "text/plain": [
       "[array([[0, 1, 2, 3],\n",
       "        [4, 5, 6, 7]]),\n",
       " array([[ 8,  9, 10, 11],\n",
       "        [12, 13, 14, 15]])]"
      ]
     },
     "execution_count": 29,
     "metadata": {},
     "output_type": "execute_result"
    }
   ],
   "source": [
    "# split into two matrix along row\n",
    "# it return a list of matrix\n",
    "np.split(m_split, 2, axis=0)\n"
   ]
  },
  {
   "cell_type": "code",
   "execution_count": 30,
   "metadata": {},
   "outputs": [
    {
     "data": {
      "text/plain": [
       "[array([[ 0,  1],\n",
       "        [ 4,  5],\n",
       "        [ 8,  9],\n",
       "        [12, 13]]),\n",
       " array([[ 2,  3],\n",
       "        [ 6,  7],\n",
       "        [10, 11],\n",
       "        [14, 15]])]"
      ]
     },
     "execution_count": 30,
     "metadata": {},
     "output_type": "execute_result"
    }
   ],
   "source": [
    "# split into two matrix along column\n",
    "# it return a list of matrix\n",
    "np.split(m_split, 2, axis=1)"
   ]
  },
  {
   "cell_type": "code",
   "execution_count": 32,
   "metadata": {},
   "outputs": [
    {
     "data": {
      "text/plain": [
       "[array([[0, 1, 2, 3]]),\n",
       " array([[ 4,  5,  6,  7],\n",
       "        [ 8,  9, 10, 11]]),\n",
       " array([[12, 13, 14, 15]])]"
      ]
     },
     "execution_count": 32,
     "metadata": {},
     "output_type": "execute_result"
    }
   ],
   "source": [
    "# split at specific index\n",
    "# split at index 1 and 3 along row\n",
    "# similar with columns if axis=1\n",
    "np.split(m_split, [1, 3], axis=0) # return 3 matrix [0:1], [1:3], [3:]"
   ]
  },
  {
   "cell_type": "markdown",
   "metadata": {},
   "source": [
    "### 3.5 Replicate Arrays\n",
    "There are two methods to replicate array in numpy: `np.repeat()` and `np.tile()`. Let's see an example:\n",
    "`np.tile()` is used to replicate whole array while `np.repeat()` is used to replicate each element after themselves in array. Let's see an example:"
   ]
  },
  {
   "cell_type": "code",
   "execution_count": 34,
   "metadata": {},
   "outputs": [
    {
     "name": "stdout",
     "output_type": "stream",
     "text": [
      "this is the original matrix:\n",
      " [[0 1]\n",
      " [2 3]]\n"
     ]
    }
   ],
   "source": [
    "m_replicate = np.arange(4).reshape(2, 2)\n",
    "print(f'this is the original matrix:\\n {m_replicate}')"
   ]
  },
  {
   "cell_type": "code",
   "execution_count": 36,
   "metadata": {},
   "outputs": [
    {
     "data": {
      "text/plain": [
       "array([0, 0, 1, 1, 2, 2, 3, 3])"
      ]
     },
     "execution_count": 36,
     "metadata": {},
     "output_type": "execute_result"
    }
   ],
   "source": [
    "# if no axis is provided, it will flatten the matrix\n",
    "np.repeat(m_replicate, 2)"
   ]
  },
  {
   "cell_type": "code",
   "execution_count": 37,
   "metadata": {},
   "outputs": [
    {
     "data": {
      "text/plain": [
       "array([[0, 1],\n",
       "       [0, 1],\n",
       "       [2, 3],\n",
       "       [2, 3]])"
      ]
     },
     "execution_count": 37,
     "metadata": {},
     "output_type": "execute_result"
    }
   ],
   "source": [
    "# repeat each elements 2 times along row\n",
    "np.repeat(m_replicate, 2, axis=0)"
   ]
  },
  {
   "cell_type": "code",
   "execution_count": 38,
   "metadata": {},
   "outputs": [
    {
     "data": {
      "text/plain": [
       "array([[0, 0, 1, 1],\n",
       "       [2, 2, 3, 3]])"
      ]
     },
     "execution_count": 38,
     "metadata": {},
     "output_type": "execute_result"
    }
   ],
   "source": [
    "# repeat each elements 2 times along column\n",
    "np.repeat(m_replicate, 2, axis=1)"
   ]
  },
  {
   "cell_type": "code",
   "execution_count": null,
   "metadata": {},
   "outputs": [
    {
     "data": {
      "text/plain": [
       "array([[0, 1, 0, 1],\n",
       "       [2, 3, 2, 3],\n",
       "       [0, 1, 0, 1],\n",
       "       [2, 3, 2, 3],\n",
       "       [0, 1, 0, 1],\n",
       "       [2, 3, 2, 3]])"
      ]
     },
     "execution_count": 40,
     "metadata": {},
     "output_type": "execute_result"
    }
   ],
   "source": [
    "# np.tile will replicate input whole array along specified dimensions\n",
    "np.tile(m_replicate, (3, 2)) # repeat array 3 time along first dimension and 2 time along second dimension"
   ]
  },
  {
   "cell_type": "code",
   "execution_count": 41,
   "metadata": {},
   "outputs": [
    {
     "data": {
      "text/plain": [
       "array([[[0, 1, 0, 1, 0, 1],\n",
       "        [2, 3, 2, 3, 2, 3],\n",
       "        [0, 1, 0, 1, 0, 1],\n",
       "        [2, 3, 2, 3, 2, 3]],\n",
       "\n",
       "       [[0, 1, 0, 1, 0, 1],\n",
       "        [2, 3, 2, 3, 2, 3],\n",
       "        [0, 1, 0, 1, 0, 1],\n",
       "        [2, 3, 2, 3, 2, 3]]])"
      ]
     },
     "execution_count": 41,
     "metadata": {},
     "output_type": "execute_result"
    }
   ],
   "source": [
    "# repeat array 2 times first dim, 2 times second dim, 3 times third dim\n",
    "np.tile(m_replicate, (2, 2, 3))"
   ]
  },
  {
   "cell_type": "markdown",
   "metadata": {},
   "source": [
    "### 3.6 Delete and Add Elements\n",
    "Elements can be added or removed from array using `np.delete()` and `np.insert()` methods. They return a copy array. Let's see an example:"
   ]
  },
  {
   "cell_type": "code",
   "execution_count": 53,
   "metadata": {},
   "outputs": [
    {
     "name": "stdout",
     "output_type": "stream",
     "text": [
      "this is the original matrix:\n",
      " [[ 1  2  3  4  5]\n",
      " [ 6  7  8  9 10]\n",
      " [11 12 13 14 15]]\n"
     ]
    }
   ],
   "source": [
    "m_delete = np.arange(1, 16).reshape(3, 5)\n",
    "print(f'this is the original matrix:\\n {m_delete}')"
   ]
  },
  {
   "cell_type": "code",
   "execution_count": 55,
   "metadata": {},
   "outputs": [
    {
     "data": {
      "text/plain": [
       "array([[ 1,  3,  4,  5],\n",
       "       [ 6,  8,  9, 10],\n",
       "       [11, 13, 14, 15]])"
      ]
     },
     "execution_count": 55,
     "metadata": {},
     "output_type": "execute_result"
    }
   ],
   "source": [
    "# delete second column\n",
    "# change axis to 0 to delete second row\n",
    "np.delete(m_delete, 1, axis=1)"
   ]
  },
  {
   "cell_type": "code",
   "execution_count": 57,
   "metadata": {},
   "outputs": [
    {
     "data": {
      "text/plain": [
       "array([[ 1,  3,  4],\n",
       "       [ 6,  8,  9],\n",
       "       [11, 13, 14]])"
      ]
     },
     "execution_count": 57,
     "metadata": {},
     "output_type": "execute_result"
    }
   ],
   "source": [
    "# delete second and second last column\n",
    "np.delete(m_delete, [1, -1], axis=1)"
   ]
  },
  {
   "cell_type": "code",
   "execution_count": 58,
   "metadata": {},
   "outputs": [
    {
     "data": {
      "text/plain": [
       "array([[ 1,  5],\n",
       "       [ 6, 10],\n",
       "       [11, 15]])"
      ]
     },
     "execution_count": 58,
     "metadata": {},
     "output_type": "execute_result"
    }
   ],
   "source": [
    "# delete from second col to second last col\n",
    "np.delete(m_delete, slice(1, -1), axis=1)"
   ]
  },
  {
   "cell_type": "code",
   "execution_count": 73,
   "metadata": {},
   "outputs": [
    {
     "name": "stdout",
     "output_type": "stream",
     "text": [
      "this is matrix 1:\n",
      " [[0 1 2]\n",
      " [3 4 5]]\n",
      "this is the matrix 2:\n",
      " [[ 6  7  8]\n",
      " [ 9 10 11]]\n"
     ]
    }
   ],
   "source": [
    "m_insert_1 = np.arange(6).reshape(2, 3)\n",
    "print(f'this is matrix 1:\\n {m_insert_1}')\n",
    "m_insert_2 = np.arange(6, 12).reshape(2, 3)\n",
    "print(f'this is the matrix 2:\\n {m_insert_2}')"
   ]
  },
  {
   "cell_type": "code",
   "execution_count": 71,
   "metadata": {},
   "outputs": [
    {
     "data": {
      "text/plain": [
       "array([[0, 0, 1, 2, 0],\n",
       "       [0, 3, 4, 5, 0]])"
      ]
     },
     "execution_count": 71,
     "metadata": {},
     "output_type": "execute_result"
    }
   ],
   "source": [
    "# insert zero to m_insert_1 at fist and last column\n",
    "# change axis to 0 to insert at row accordingly\n",
    "np.insert(m_insert_1, [0, 3], 0, axis=1)"
   ]
  },
  {
   "cell_type": "code",
   "execution_count": 75,
   "metadata": {},
   "outputs": [
    {
     "data": {
      "text/plain": [
       "array([[ 0,  6,  7,  8,  1,  2],\n",
       "       [ 3,  9, 10, 11,  4,  5]])"
      ]
     },
     "execution_count": 75,
     "metadata": {},
     "output_type": "execute_result"
    }
   ],
   "source": [
    "# insert m_insert_2 into m_insert_1 at second column\n",
    "# change axis to 0 to insert at row accordingly\n",
    "np.insert(m_insert_1, [1], m_insert_2, axis=1)"
   ]
  },
  {
   "cell_type": "markdown",
   "metadata": {},
   "source": [
    "## 4. Multi-dimensional Array\n",
    "For more than two dimensions array, same rule apply."
   ]
  },
  {
   "cell_type": "code",
   "execution_count": 18,
   "metadata": {},
   "outputs": [
    {
     "name": "stdout",
     "output_type": "stream",
     "text": [
      "Total running time: 0.146 seconds\n"
     ]
    }
   ],
   "source": [
    "end = time.time()\n",
    "print(f'Total running time: {end - start:.3f} seconds')"
   ]
  }
 ],
 "metadata": {
  "kernelspec": {
   "display_name": "env-torch",
   "language": "python",
   "name": "python3"
  },
  "language_info": {
   "codemirror_mode": {
    "name": "ipython",
    "version": 3
   },
   "file_extension": ".py",
   "mimetype": "text/x-python",
   "name": "python",
   "nbconvert_exporter": "python",
   "pygments_lexer": "ipython3",
   "version": "3.13.2"
  }
 },
 "nbformat": 4,
 "nbformat_minor": 2
}
